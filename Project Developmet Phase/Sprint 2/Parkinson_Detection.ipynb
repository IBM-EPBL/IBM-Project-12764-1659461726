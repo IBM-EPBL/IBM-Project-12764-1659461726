{
  "cells": [
    {
      "cell_type": "code",
      "execution_count": 1,
      "metadata": {
        "id": "DMBKWuFo-TXK",
        "colab": {
          "base_uri": "https://localhost:8080/"
        },
        "outputId": "7106507c-2eaf-45ab-e5c6-bdb86e244cbd"
      },
      "outputs": [
        {
          "output_type": "stream",
          "name": "stdout",
          "text": [
            "Mounted at /content/drive\n"
          ]
        }
      ],
      "source": [
        "from google.colab import drive\n",
        "drive.mount('/content/drive')"
      ]
    },
    {
      "cell_type": "code",
      "execution_count": 6,
      "metadata": {
        "colab": {
          "base_uri": "https://localhost:8080/"
        },
        "id": "nz_SQhwU-Bqm",
        "outputId": "7cdc2904-f964-45f4-f22c-0c85902570e9"
      },
      "outputs": [
        {
          "output_type": "stream",
          "name": "stdout",
          "text": [
            "Looking in indexes: https://pypi.org/simple, https://us-python.pkg.dev/colab-wheels/public/simple/\n",
            "Requirement already satisfied: imutils in /usr/local/lib/python3.7/dist-packages (0.5.4)\n"
          ]
        }
      ],
      "source": [
        "!pip install imutils\n",
        "from sklearn.ensemble import RandomForestClassifier \n",
        "from sklearn.neighbors import KNeighborsClassifier \n",
        "from sklearn.preprocessing import LabelEncoder \n",
        "from sklearn.metrics import confusion_matrix \n",
        "from skimage import feature #\n",
        "from imutils import build_montages\n",
        "from imutils import paths\n",
        "import numpy as np\n",
        "import cv2\n",
        "import os\n",
        "import pickle \n"
      ]
    },
    {
      "cell_type": "code",
      "execution_count": 10,
      "metadata": {
        "id": "yKktszHw-Bqo"
      },
      "outputs": [],
      "source": [
        "def quantify_image(image):\n",
        "    features = feature.hog(image, orientations=9, pixels_per_cell=(10, 10), cells_per_block=(2, 2), transform_sqrt=True, block_norm=\"L1\")\n",
        "    return features\n"
      ]
    },
    {
      "cell_type": "code",
      "execution_count": 7,
      "metadata": {
        "id": "KFP8ozMq-Bqo"
      },
      "outputs": [],
      "source": [
        "def load_split(path):\n",
        "    imagePaths = list(paths.list_images(path))\n",
        "    data = [] \n",
        "    labels = []\n",
        "    for imagePath in imagePaths:   \n",
        "        label = imagePath.split(os.path.sep)[-2]\n",
        "        image = cv2.imread(imagePath)\n",
        "        image = cv2.cvtColor(image, cv2.COLOR_BGR2GRAY) \n",
        "        image = cv2.resize(image, (200, 200))\n",
        "        image = cv2.threshold (image, 0, 255, cv2.THRESH_BINARY_INV | cv2.THRESH_OTSU)[1]\n",
        "        features=quantify_image(image)\n",
        "        data.append(features)\n",
        "        labels.append(label)\n",
        "    return (np.array(data), np.array(labels))"
      ]
    },
    {
      "cell_type": "code",
      "execution_count": 11,
      "metadata": {
        "id": "4qeR7zTo2P11"
      },
      "outputs": [],
      "source": [
        "trainingPathSpiral = r\"/content/drive/MyDrive/COLAB/Parkinsons/dataset/spiral/training\"\n",
        "testingPathSpiral = r\"/content/drive/MyDrive/COLAB/Parkinsons/dataset/spiral/testing\"\n",
        "(X_trainSpiral, y_trainSpiral) = load_split(trainingPathSpiral)\n",
        "(X_testSpiral, y_testSpiral) = load_split(testingPathSpiral)"
      ]
    },
    {
      "cell_type": "code",
      "execution_count": 12,
      "metadata": {
        "id": "iPKuI2Ev3E9v"
      },
      "outputs": [],
      "source": [
        "trainingPathWave = r\"/content/drive/MyDrive/COLAB/Parkinsons/dataset/wave/training\"\n",
        "testingPathWave = r\"/content/drive/MyDrive/COLAB/Parkinsons/dataset/wave/testing\"\n",
        "(X_trainWave, y_trainWave) = load_split(trainingPathWave)\n",
        "(X_testWave, y_testWave) = load_split(testingPathWave)"
      ]
    },
    {
      "cell_type": "code",
      "execution_count": 13,
      "metadata": {
        "id": "mIxfWQNj2P4p",
        "colab": {
          "base_uri": "https://localhost:8080/"
        },
        "outputId": "78aeab0a-70e5-4b32-b32c-0fe501f15e83"
      },
      "outputs": [
        {
          "output_type": "stream",
          "name": "stdout",
          "text": [
            "(72, 12996) (72,)\n"
          ]
        }
      ],
      "source": [
        "le=LabelEncoder()\n",
        "y_trainSpiral = le.fit_transform (y_trainSpiral) \n",
        "y_testSpiral = le.transform (y_testSpiral) \n",
        "print (X_trainSpiral. shape, y_trainSpiral.shape)"
      ]
    },
    {
      "cell_type": "code",
      "execution_count": 14,
      "metadata": {
        "id": "UsIj7rmu3NkH",
        "colab": {
          "base_uri": "https://localhost:8080/"
        },
        "outputId": "ef32157b-f3c6-4292-f6a5-31c55d077a36"
      },
      "outputs": [
        {
          "output_type": "stream",
          "name": "stdout",
          "text": [
            "(72, 12996) (72,)\n"
          ]
        }
      ],
      "source": [
        "le=LabelEncoder()\n",
        "y_trainWave = le.fit_transform (y_trainWave) \n",
        "y_testWave = le.transform (y_testWave) \n",
        "print (X_trainWave. shape, y_trainWave.shape)"
      ]
    },
    {
      "cell_type": "code",
      "execution_count": 15,
      "metadata": {
        "id": "iOUsR--a5h2f",
        "colab": {
          "base_uri": "https://localhost:8080/"
        },
        "outputId": "48ddb664-5d41-4b1b-ce9d-5af2f57fe1ea"
      },
      "outputs": [
        {
          "output_type": "stream",
          "name": "stdout",
          "text": [
            "0.71 accuracy with a standard deviation of 0.07\n"
          ]
        }
      ],
      "source": [
        "from sklearn.model_selection import cross_val_score\n",
        "modelsf = RandomForestClassifier (n_estimators=100) \n",
        "scores = cross_val_score(modelsf, X_trainSpiral, y_trainSpiral, cv=5)\n",
        "print(\"%0.2f accuracy with a standard deviation of %0.2f\" % (scores.mean(), scores.std()))"
      ]
    },
    {
      "cell_type": "code",
      "execution_count": 16,
      "metadata": {
        "id": "1axGFIGk6A41",
        "colab": {
          "base_uri": "https://localhost:8080/"
        },
        "outputId": "4ad86fd4-7e14-4587-9dcd-e6e22ce016bb"
      },
      "outputs": [
        {
          "output_type": "stream",
          "name": "stdout",
          "text": [
            "0.67 accuracy with a standard deviation of 0.05\n"
          ]
        }
      ],
      "source": [
        "modelwf = RandomForestClassifier (n_estimators=100) \n",
        "scores = cross_val_score(modelwf, X_trainWave, y_trainWave, cv=5)\n",
        "print(\"%0.2f accuracy with a standard deviation of %0.2f\" % (scores.mean(), scores.std()))"
      ]
    },
    {
      "cell_type": "code",
      "execution_count": 17,
      "metadata": {
        "id": "rqypj0Pu6BNt",
        "colab": {
          "base_uri": "https://localhost:8080/"
        },
        "outputId": "ec9da59f-9605-425e-d78a-aafd32bca8e6"
      },
      "outputs": [
        {
          "output_type": "stream",
          "name": "stdout",
          "text": [
            "0.72 accuracy with a standard deviation of 0.08\n"
          ]
        }
      ],
      "source": [
        "from sklearn import svm\n",
        "modelsvms = svm.SVC(kernel='linear', C=1, random_state=42)\n",
        "scores = cross_val_score(modelsvms, X_trainSpiral, y_trainSpiral, cv=5)\n",
        "print(\"%0.2f accuracy with a standard deviation of %0.2f\" % (scores.mean(), scores.std()))"
      ]
    },
    {
      "cell_type": "code",
      "execution_count": 18,
      "metadata": {
        "id": "Fg_uswm_6BQb",
        "colab": {
          "base_uri": "https://localhost:8080/"
        },
        "outputId": "ae695634-5841-4a27-910b-93292f10b46c"
      },
      "outputs": [
        {
          "output_type": "stream",
          "name": "stdout",
          "text": [
            "0.60 accuracy with a standard deviation of 0.14\n"
          ]
        }
      ],
      "source": [
        "modelsvmw = svm.SVC(kernel='linear', C=1, random_state=42)\n",
        "scores = cross_val_score(modelsvmw, X_trainWave, y_trainWave, cv=5)\n",
        "print(\"%0.2f accuracy with a standard deviation of %0.2f\" % (scores.mean(), scores.std()))"
      ]
    },
    {
      "cell_type": "code",
      "execution_count": 19,
      "metadata": {
        "id": "9hFu7C_36BSr",
        "colab": {
          "base_uri": "https://localhost:8080/"
        },
        "outputId": "2a174645-1d73-4fc7-aeaf-752a7fe0d9ac"
      },
      "outputs": [
        {
          "output_type": "stream",
          "name": "stdout",
          "text": [
            "0.76 accuracy with a standard deviation of 0.07\n"
          ]
        }
      ],
      "source": [
        "modelknns = KNeighborsClassifier(n_neighbors = 5)\n",
        "scores = cross_val_score(modelknns, X_trainSpiral, y_trainSpiral, cv=5)\n",
        "print(\"%0.2f accuracy with a standard deviation of %0.2f\" % (scores.mean(), scores.std()))"
      ]
    },
    {
      "cell_type": "code",
      "execution_count": 20,
      "metadata": {
        "id": "bBnocoxw7g9m",
        "colab": {
          "base_uri": "https://localhost:8080/"
        },
        "outputId": "321e5d0d-0efd-413f-ca01-93d6f0602887"
      },
      "outputs": [
        {
          "output_type": "stream",
          "name": "stdout",
          "text": [
            "0.60 accuracy with a standard deviation of 0.13\n"
          ]
        }
      ],
      "source": [
        "modelknnw = KNeighborsClassifier(n_neighbors = 5)\n",
        "scores = cross_val_score(modelknnw, X_trainWave, y_trainWave, cv=5)\n",
        "print(\"%0.2f accuracy with a standard deviation of %0.2f\" % (scores.mean(), scores.std()))"
      ]
    },
    {
      "cell_type": "code",
      "execution_count": 21,
      "metadata": {
        "id": "8WyGEC-87hAV",
        "colab": {
          "base_uri": "https://localhost:8080/"
        },
        "outputId": "adfaafca-3dbf-4364-ae27-f1035697fa14"
      },
      "outputs": [
        {
          "output_type": "stream",
          "name": "stdout",
          "text": [
            "0.60 accuracy with a standard deviation of 0.16\n"
          ]
        }
      ],
      "source": [
        "from sklearn.linear_model import LogisticRegression\n",
        "modellrw = LogisticRegression(solver='liblinear', random_state=0)\n",
        "scores = cross_val_score(modellrw, X_trainWave, y_trainWave, cv=5)\n",
        "print(\"%0.2f accuracy with a standard deviation of %0.2f\" % (scores.mean(), scores.std()))"
      ]
    },
    {
      "cell_type": "code",
      "execution_count": 22,
      "metadata": {
        "id": "YCHVVaWk7hCa",
        "colab": {
          "base_uri": "https://localhost:8080/"
        },
        "outputId": "5ad872ea-f73b-431a-f330-de8f6d2ebeac"
      },
      "outputs": [
        {
          "output_type": "stream",
          "name": "stdout",
          "text": [
            "0.72 accuracy with a standard deviation of 0.10\n"
          ]
        }
      ],
      "source": [
        "modellrs = LogisticRegression(solver='liblinear', random_state=0)\n",
        "scores = cross_val_score(modellrs, X_trainSpiral, y_trainSpiral, cv=5)\n",
        "print(\"%0.2f accuracy with a standard deviation of %0.2f\" % (scores.mean(), scores.std()))"
      ]
    },
    {
      "cell_type": "code",
      "execution_count": 23,
      "metadata": {
        "id": "Z3Xs10ze7hFy",
        "colab": {
          "base_uri": "https://localhost:8080/"
        },
        "outputId": "c7a815fa-4c55-47ca-933a-a9355eb614d9"
      },
      "outputs": [
        {
          "output_type": "stream",
          "name": "stdout",
          "text": [
            "0.58 accuracy with a standard deviation of 0.09\n"
          ]
        }
      ],
      "source": [
        "from sklearn import tree\n",
        "modeldts = tree.DecisionTreeClassifier()\n",
        "scores = cross_val_score(modeldts, X_trainSpiral, y_trainSpiral, cv=5)\n",
        "print(\"%0.2f accuracy with a standard deviation of %0.2f\" % (scores.mean(), scores.std()))"
      ]
    },
    {
      "cell_type": "code",
      "execution_count": 24,
      "metadata": {
        "id": "HkS779tU7hIb",
        "colab": {
          "base_uri": "https://localhost:8080/"
        },
        "outputId": "92af4d7c-dd58-4de4-cd76-0bf3308da894"
      },
      "outputs": [
        {
          "output_type": "stream",
          "name": "stdout",
          "text": [
            "0.65 accuracy with a standard deviation of 0.11\n"
          ]
        }
      ],
      "source": [
        "modeldtw = tree.DecisionTreeClassifier()\n",
        "scores = cross_val_score(modeldtw, X_trainWave, y_trainWave, cv=5)\n",
        "print(\"%0.2f accuracy with a standard deviation of %0.2f\" % (scores.mean(), scores.std()))"
      ]
    },
    {
      "cell_type": "code",
      "execution_count": 25,
      "metadata": {
        "id": "JcnuUqsW7hKw",
        "colab": {
          "base_uri": "https://localhost:8080/"
        },
        "outputId": "31040a3d-4416-4b03-f2f8-d4abb4387275"
      },
      "outputs": [
        {
          "output_type": "stream",
          "name": "stdout",
          "text": [
            "[INFO] training model\n"
          ]
        },
        {
          "output_type": "execute_result",
          "data": {
            "text/plain": [
              "RandomForestClassifier()"
            ]
          },
          "metadata": {},
          "execution_count": 25
        }
      ],
      "source": [
        "print(\"[INFO] training model\") \n",
        "modelsf = RandomForestClassifier (n_estimators=100) \n",
        "modelsf.fit(X_trainSpiral, y_trainSpiral)"
      ]
    },
    {
      "cell_type": "code",
      "execution_count": 26,
      "metadata": {
        "id": "OrMYMeS09xvP",
        "colab": {
          "base_uri": "https://localhost:8080/"
        },
        "outputId": "3f348312-67fe-4b52-a934-b58abec08089"
      },
      "outputs": [
        {
          "output_type": "stream",
          "name": "stdout",
          "text": [
            "[INFO] training model\n"
          ]
        },
        {
          "output_type": "execute_result",
          "data": {
            "text/plain": [
              "SVC(C=1, kernel='linear', random_state=42)"
            ]
          },
          "metadata": {},
          "execution_count": 26
        }
      ],
      "source": [
        "print(\"[INFO] training model\") \n",
        "modelsvmw = svm.SVC(kernel='linear', C=1, random_state=42)\n",
        "modelsvmw.fit(X_trainWave, y_trainWave)"
      ]
    },
    {
      "cell_type": "code",
      "execution_count": 27,
      "metadata": {
        "id": "ZDG9gPx72P-a"
      },
      "outputs": [],
      "source": [
        "testingPathSpirals = list(paths.list_images(testingPathSpiral))\n",
        "idxss = np.arange(0, len (testingPathSpirals))\n",
        "idxss = np.random.choice (idxss, size=(25,), replace=False)\n",
        "simages=[]"
      ]
    },
    {
      "cell_type": "code",
      "execution_count": 28,
      "metadata": {
        "id": "MtbaWwxH-r-X"
      },
      "outputs": [],
      "source": [
        "testingPathWaves = list(paths.list_images(testingPathWave))\n",
        "idxsw = np.arange(0, len (testingPathWaves))\n",
        "idxsw = np.random.choice (idxsw, size=(25,), replace=False)\n",
        "wimages=[]"
      ]
    },
    {
      "cell_type": "code",
      "execution_count": 29,
      "metadata": {
        "id": "BRvkrAVr2QAq"
      },
      "outputs": [],
      "source": [
        "for i in idxss:\n",
        "    simage = cv2.imread(testingPathSpirals[i])\n",
        "    soutput = simage.copy()\n",
        "    soutput = cv2.resize(soutput, (128, 128))\n",
        "    simage = cv2.cvtColor(simage, cv2.COLOR_BGR2GRAY)\n",
        "    simage = cv2.resize(simage, (200, 200))\n",
        "    simage = cv2.threshold (simage, 0, 255,cv2.THRESH_BINARY_INV | cv2. THRESH_OTSU) [1]"
      ]
    },
    {
      "cell_type": "code",
      "execution_count": 30,
      "metadata": {
        "id": "33JlHhRj_GfF"
      },
      "outputs": [],
      "source": [
        "for i in idxsw:\n",
        "    wimage = cv2.imread(testingPathWaves[i])\n",
        "    woutput = wimage.copy()\n",
        "    woutput = cv2.resize(woutput, (128, 128))\n",
        "    wimage = cv2.cvtColor(wimage, cv2.COLOR_BGR2GRAY)\n",
        "    wimage = cv2.resize(wimage, (200, 200))\n",
        "    wimage = cv2.threshold (wimage, 0, 255,cv2.THRESH_BINARY_INV | cv2. THRESH_OTSU) [1]"
      ]
    },
    {
      "cell_type": "code",
      "execution_count": 31,
      "metadata": {
        "id": "H7hJC7V12QCg"
      },
      "outputs": [],
      "source": [
        "sfeatures = quantify_image(simage)\n",
        "spreds = modelsf.predict([sfeatures])\n",
        "slabel =le.inverse_transform(spreds)[0]\n",
        "scolor = (0, 255, 0) if slabel == \"healthy\" else (0, 0, 255)\n",
        "cv2.putText(soutput,slabel, (3, 20), cv2.FONT_HERSHEY_SIMPLEX, 0.5, scolor, 2)\n",
        "simages.append(soutput)"
      ]
    },
    {
      "cell_type": "code",
      "execution_count": 32,
      "metadata": {
        "id": "Vxcq7w8Z_VCm"
      },
      "outputs": [],
      "source": [
        "wfeatures = quantify_image(wimage)\n",
        "wpreds = modelsvmw.predict([wfeatures])\n",
        "wlabel =le.inverse_transform(wpreds)[0]\n",
        "wcolor = (0, 255, 0) if wlabel == \"healthy\" else (0, 0, 255)\n",
        "cv2.putText(woutput, wlabel, (3, 20), cv2.FONT_HERSHEY_SIMPLEX, 0.5, wcolor, 2)\n",
        "wimages.append(woutput)"
      ]
    },
    {
      "cell_type": "code",
      "execution_count": 33,
      "metadata": {
        "id": "som4IVtu2QEm",
        "colab": {
          "base_uri": "https://localhost:8080/",
          "height": 674
        },
        "outputId": "b11e3165-c1be-49c3-cd46-512f245ef776"
      },
      "outputs": [
        {
          "output_type": "display_data",
          "data": {
            "text/plain": [
              "<PIL.Image.Image image mode=RGB size=640x640 at 0x7F2FE5617450>"
            ],
            "image/png": "[encoded data removed]"
          },
          "metadata": {}
        },
        {
          "output_type": "execute_result",
          "data": {
            "text/plain": [
              "-1"
            ]
          },
          "metadata": {},
          "execution_count": 33
        }
      ],
      "source": [
        "from google.colab.patches import cv2_imshow\n",
        "montage = build_montages (simages, (128, 128), (5, 5))[0]\n",
        "cv2_imshow(montage) \n",
        "cv2.waitKey(0)"
      ]
    },
    {
      "cell_type": "code",
      "execution_count": 34,
      "metadata": {
        "id": "Y4tT09lz_eI-",
        "colab": {
          "base_uri": "https://localhost:8080/",
          "height": 674
        },
        "outputId": "23d0ce37-1585-4fc9-9a63-aac4ad4c9660"
      },
      "outputs": [
        {
          "output_type": "display_data",
          "data": {
            "text/plain": [
              "<PIL.Image.Image image mode=RGB size=640x640 at 0x7F2FE5617A50>"
            ],
            "image/png": "[encoded data removed]"
          },
          "metadata": {}
        },
        {
          "output_type": "execute_result",
          "data": {
            "text/plain": [
              "-1"
            ]
          },
          "metadata": {},
          "execution_count": 34
        }
      ],
      "source": [
        "montage = build_montages (wimages, (128, 128), (5, 5))[0]\n",
        "cv2_imshow( montage) \n",
        "cv2.waitKey(0)"
      ]
    },
    {
      "cell_type": "code",
      "execution_count": 35,
      "metadata": {
        "id": "M3vtkvyo2QGm"
      },
      "outputs": [],
      "source": [
        "spredictions = modelsf.predict(X_testSpiral) "
      ]
    },
    {
      "cell_type": "code",
      "execution_count": 36,
      "metadata": {
        "id": "JvllidL7_lMu"
      },
      "outputs": [],
      "source": [
        "predictions = modelsvmw.predict(X_testWave) "
      ]
    },
    {
      "cell_type": "code",
      "execution_count": 37,
      "metadata": {
        "id": "jsMJgt_N2QIt",
        "colab": {
          "base_uri": "https://localhost:8080/"
        },
        "outputId": "a467b85b-e4dd-4544-e591-554c06173f98"
      },
      "outputs": [
        {
          "output_type": "stream",
          "name": "stdout",
          "text": [
            "[14  1  3 12]\n",
            "0.8666666666666667\n"
          ]
        }
      ],
      "source": [
        "cms = confusion_matrix(y_testSpiral, spredictions). flatten() \n",
        "print(cms)\n",
        "(tn, fp, fn, tp) = cms\n",
        "accuracy= (tp + tn) / float(cms.sum()) \n",
        "print (accuracy)"
      ]
    },
    {
      "cell_type": "code",
      "execution_count": 38,
      "metadata": {
        "id": "K2HA_wvD_57m",
        "colab": {
          "base_uri": "https://localhost:8080/"
        },
        "outputId": "5a3ec90b-ca2e-4acd-f06d-481d5d66e071"
      },
      "outputs": [
        {
          "output_type": "stream",
          "name": "stdout",
          "text": [
            "[12  3  5 10]\n",
            "0.7333333333333333\n"
          ]
        }
      ],
      "source": [
        "cmw = confusion_matrix(y_testWave, predictions). flatten() \n",
        "print(cmw)\n",
        "(tn, fp, fn, tp) = cmw\n",
        "accuracy= (tp + tn) / float(cmw.sum()) \n",
        "print (accuracy)"
      ]
    },
    {
      "cell_type": "code",
      "execution_count": 39,
      "metadata": {
        "id": "mNP5rNOE2QK3"
      },
      "outputs": [],
      "source": [
        "pickle.dump (modelsf, open ('/content/drive/MyDrive/COLAB/Parkinsons/parkinsonSpiral.pkl', 'wb'))"
      ]
    },
    {
      "cell_type": "code",
      "execution_count": 40,
      "metadata": {
        "id": "5vIXW1ej2QP3"
      },
      "outputs": [],
      "source": [
        "pickle.dump (modelsvmw, open ('/content/drive/MyDrive/COLAB/Parkinsons/parkinsonWave.pkl', 'wb'))"
      ]
    }
  ],
  "metadata": {
    "accelerator": "GPU",
    "colab": {
      "collapsed_sections": [],
      "provenance": []
    },
    "gpuClass": "standard",
    "kernelspec": {
      "display_name": "Python 3",
      "language": "python",
      "name": "python3"
    },
    "language_info": {
      "codemirror_mode": {
        "name": "ipython",
        "version": 3
      },
      "file_extension": ".py",
      "mimetype": "text/x-python",
      "name": "python",
      "nbconvert_exporter": "python",
      "pygments_lexer": "ipython3",
      "version": "3.6.4"
    }
  },
  "nbformat": 4,
  "nbformat_minor": 0
}