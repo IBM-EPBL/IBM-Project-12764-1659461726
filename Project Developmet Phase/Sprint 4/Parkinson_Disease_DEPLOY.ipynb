{
  "nbformat": 4,
  "nbformat_minor": 0,
  "metadata": {
    "colab": {
      "provenance": []
    },
    "kernelspec": {
      "name": "python3",
      "display_name": "Python 3"
    },
    "language_info": {
      "name": "python"
    }
  },
  "cells": [
    {
      "cell_type": "markdown",
      "source": [
        "**IMAGE PREPROCESSING**"
      ],
      "metadata": {
        "id": "DMBUmG1TwTdp"
      }
    },
    {
      "cell_type": "markdown",
      "source": [
        "**IMPORT THE NECESSARY LIBRARIES**"
      ],
      "metadata": {
        "id": "ORebiLFJhpxd"
      }
    },
    {
      "cell_type": "code",
      "execution_count": null,
      "metadata": {
        "id": "i-FsICHjqUV_"
      },
      "outputs": [],
      "source": [
        "from sklearn.ensemble import RandomForestClassifier\n",
        "\n",
        "from sklearn.preprocessing import LabelEncoder\n",
        "from sklearn.metrics import confusion_matrix\n",
        "from google.colab.patches import cv2_imshow\n",
        "\n",
        "from skimage import feature \n",
        "from imutils import build_montages \n",
        "from imutils import paths\n",
        "\n",
        "import numpy as np\n",
        "import cv2\n",
        "\n",
        "import os \n",
        "import pickle\n"
      ]
    },
    {
      "cell_type": "markdown",
      "source": [
        "PATH FOR TRAIN AND TEST DATA"
      ],
      "metadata": {
        "id": "GbW6LJDPiCmv"
      }
    },
    {
      "cell_type": "code",
      "source": [
        "from google.colab import drive\n",
        "drive.mount('/content/drive')"
      ],
      "metadata": {
        "colab": {
          "base_uri": "https://localhost:8080/"
        },
        "id": "6jthymE6Zgth",
        "outputId": "a0ef6cbb-f80e-4650-91b6-ed6b62d432d9"
      },
      "execution_count": null,
      "outputs": [
        {
          "output_type": "stream",
          "name": "stdout",
          "text": [
            "Drive already mounted at /content/drive; to attempt to forcibly remount, call drive.mount(\"/content/drive\", force_remount=True).\n"
          ]
        }
      ]
    },
    {
      "cell_type": "code",
      "source": [
        "trainingpath=r\"/content/drive/My Drive/dataset/spiral/training\"  \n",
        "testingpath=r\"/content/drive/My Drive/dataset/spiral/testing\""
      ],
      "metadata": {
        "id": "JG9660iRXenK"
      },
      "execution_count": null,
      "outputs": []
    },
    {
      "cell_type": "markdown",
      "source": [
        "QUANTIFYING IMAGES"
      ],
      "metadata": {
        "id": "itQTp14UiL98"
      }
    },
    {
      "cell_type": "code",
      "source": [
        "def quantify_image(image):\n",
        "    features = feature.hog(image, orientations=9,\n",
        "                           pixels_per_cell=(10, 10), \n",
        "                           cells_per_block=(2, 2),\n",
        "                           transform_sqrt=True, \n",
        "                           block_norm=\"L1\")\n",
        "    return features"
      ],
      "metadata": {
        "id": "DUxDqb5LXp7T"
      },
      "execution_count": null,
      "outputs": []
    },
    {
      "cell_type": "markdown",
      "source": [
        "LOADING TRAIN DATA AND TEST DATA"
      ],
      "metadata": {
        "id": "Icg0VqBXiQQm"
      }
    },
    {
      "cell_type": "code",
      "source": [
        "def load_split(path):\n",
        "  #grab the list of img in the input directory, the initialize the list of data images and class labels\n",
        "  imagePaths = list(paths.list_images (path))\n",
        "  data=[]\n",
        "  labels=[]\n",
        "  #loop over the image paths \n",
        "  for imagePath in imagePaths:\n",
        "    #extract the class label from the filename \n",
        "    label = imagePath.split(os.path.sep) [-2]\n",
        "    #load the input image, convert it to grayscale, and resize # it to 200x200 pixels, ignoring aspect ratio\n",
        "    image = cv2.imread(imagePath)\n",
        "    image = cv2.cvtColor(image, cv2.COLOR_BGR2GRAY)\n",
        "    image = cv2.resize(image, (200, 200))\n",
        "    #threshold the image such that the drawing appears as white on a black background\n",
        "    image = cv2.threshold(image, 0, 255, cv2.THRESH_BINARY_INV | cv2. THRESH_OTSU) [1]\n",
        "    features = quantify_image(image) # quantify the image \n",
        "    data.append(features)\n",
        "    labels.append(label)#update the data and labels lists, respectively \n",
        "  return (np.array(data), np.array(labels))"
      ],
      "metadata": {
        "id": "UX2vhQMYXsrw"
      },
      "execution_count": null,
      "outputs": []
    },
    {
      "cell_type": "code",
      "source": [
        "print(\"[INFO] loading data...\")\n",
        "(X_train, y_train) = load_split(trainingpath)\n",
        "(X_test, y_test) = load_split(testingpath)\n"
      ],
      "metadata": {
        "id": "IeLQT8bFqafJ",
        "colab": {
          "base_uri": "https://localhost:8080/"
        },
        "outputId": "1ac44fe6-7aca-41f7-bbad-823f9c813eaf"
      },
      "execution_count": null,
      "outputs": [
        {
          "output_type": "stream",
          "name": "stdout",
          "text": [
            "[INFO] loading data...\n"
          ]
        }
      ]
    },
    {
      "cell_type": "markdown",
      "source": [
        "LABEL ENCODING"
      ],
      "metadata": {
        "id": "NenFHL_nibvV"
      }
    },
    {
      "cell_type": "code",
      "source": [
        "le = LabelEncoder()\n",
        "y_train = le.fit_transform(y_train)\n",
        "y_test = le.transform(y_test)\n",
        "print(X_train.shape,y_train.shape)\n"
      ],
      "metadata": {
        "id": "3PASDzwpuCnH",
        "colab": {
          "base_uri": "https://localhost:8080/"
        },
        "outputId": "10620aac-2fa4-4f60-b8b9-975f79645acd"
      },
      "execution_count": null,
      "outputs": [
        {
          "output_type": "stream",
          "name": "stdout",
          "text": [
            "(72, 12996) (72,)\n"
          ]
        }
      ]
    },
    {
      "cell_type": "markdown",
      "source": [
        "**MODEL BUILDING**"
      ],
      "metadata": {
        "id": "1sMfDYuMilm6"
      }
    },
    {
      "cell_type": "markdown",
      "source": [
        "TRAINING THE MODEL"
      ],
      "metadata": {
        "id": "mWbLWD-jipOD"
      }
    },
    {
      "cell_type": "code",
      "source": [
        "print(\"[INFO] training model\")\n",
        "model = RandomForestClassifier(n_estimators=100)\n",
        "model.fit(X_train, y_train)"
      ],
      "metadata": {
        "colab": {
          "base_uri": "https://localhost:8080/"
        },
        "id": "kOWDrnoVcKwe",
        "outputId": "1ff6f4e1-9be4-463c-e050-58ad6f18f37b"
      },
      "execution_count": null,
      "outputs": [
        {
          "output_type": "stream",
          "name": "stdout",
          "text": [
            "[INFO] training model\n"
          ]
        },
        {
          "output_type": "execute_result",
          "data": {
            "text/plain": [
              "RandomForestClassifier()"
            ]
          },
          "metadata": {},
          "execution_count": 22
        }
      ]
    },
    {
      "cell_type": "markdown",
      "source": [
        "TESTING THE MODEL"
      ],
      "metadata": {
        "id": "rclzziGYivCn"
      }
    },
    {
      "cell_type": "code",
      "source": [
        "testingpath=list(paths.list_images(testingpath))\n",
        "idxs=np.arange(0,len(testingpath))\n",
        "idxs=np.random.choice(idxs,size=(25,),replace=False)\n",
        "images=[]"
      ],
      "metadata": {
        "id": "esJlRcUCcNcf"
      },
      "execution_count": null,
      "outputs": []
    },
    {
      "cell_type": "code",
      "source": [
        "from google.colab.patches import cv2_imshow\n",
        "for i in idxs:\n",
        "    image=cv2.imread(testingpath[i])\n",
        "    output=image.copy()\n",
        "        \n",
        "    # load the input image,convert to grayscale and resize\n",
        "    \n",
        "    output=cv2.resize(output,(128,128))\n",
        "    image=cv2.cvtColor(image,cv2.COLOR_BGR2GRAY)\n",
        "    image=cv2.resize(image,(200,200))\n",
        "    image=cv2.threshold(image,0,255,cv2.THRESH_BINARY_INV | cv2.THRESH_OTSU)[1]\n",
        "    \n",
        "    #quantify the image and make predictions based on the  extracted feature using last trained random forest\n",
        "    features=quantify_image(image)\n",
        "    preds=model.predict([features])\n",
        "    label=le.inverse_transform(preds)[0]\n",
        "    #the set of output images\n",
        "    if label==\"healthy\":\n",
        "        color=(0,255,0)\n",
        "    else:\n",
        "        color=(0,0,255)\n",
        "        \n",
        "    cv2.putText(output,label,(3,20),cv2.FONT_HERSHEY_SIMPLEX,0.5,color,2)\n",
        "    images.append(output)\n",
        "\n",
        "#creating a montage\n",
        "montage=build_montages(images,(128,128),(5,5))[0]\n",
        "cv2.waitKey(0)"
      ],
      "metadata": {
        "colab": {
          "base_uri": "https://localhost:8080/"
        },
        "id": "sB3IyYBQcUS3",
        "outputId": "d3cdafbe-a90f-40fb-f490-49008dba3859"
      },
      "execution_count": null,
      "outputs": [
        {
          "output_type": "execute_result",
          "data": {
            "text/plain": [
              "-1"
            ]
          },
          "metadata": {},
          "execution_count": 33
        }
      ]
    },
    {
      "cell_type": "markdown",
      "source": [
        "MODEL EVALUATION"
      ],
      "metadata": {
        "id": "n8H-LP1AiylC"
      }
    },
    {
      "cell_type": "code",
      "source": [
        "predictions = model.predict(X_test)\n",
        "\n",
        "cm = confusion_matrix(y_test, predictions).flatten()\n",
        "print(cm)\n",
        "(tn, fp, fn, tp) = cm\n",
        "accuracy = (tp + tn) / float(cm.sum())\n",
        "print(accuracy)"
      ],
      "metadata": {
        "id": "EojibJi0wQw7",
        "colab": {
          "base_uri": "https://localhost:8080/"
        },
        "outputId": "193cfea5-a36f-42ae-9586-dd3d6a092fea"
      },
      "execution_count": null,
      "outputs": [
        {
          "output_type": "stream",
          "name": "stdout",
          "text": [
            "[14  1  3 12]\n",
            "0.8666666666666667\n"
          ]
        }
      ]
    },
    {
      "cell_type": "markdown",
      "source": [
        "SAVE THE MODEL"
      ],
      "metadata": {
        "id": "6AQrWsA5i1Nr"
      }
    },
    {
      "cell_type": "code",
      "source": [
        "pickle.dump(model,open('parkinson.pkl','wb')) "
      ],
      "metadata": {
        "id": "qJSQLLrgeAGn"
      },
      "execution_count": null,
      "outputs": []
    },
    {
      "cell_type": "markdown",
      "source": [
        "DEPLOYMENT"
      ],
      "metadata": {
        "id": "IoTVzcigXuMz"
      }
    },
    {
      "cell_type": "code",
      "source": [
        "!pip install -U ibm-watson-machine-learning"
      ],
      "metadata": {
        "colab": {
          "base_uri": "https://localhost:8080/"
        },
        "id": "Wea0FuheXvtA",
        "outputId": "b52edeec-7d2a-4725-e373-22ea543a9b8d"
      },
      "execution_count": null,
      "outputs": [
        {
          "output_type": "stream",
          "name": "stdout",
          "text": [
            "Looking in indexes: https://pypi.org/simple, https://us-python.pkg.dev/colab-wheels/public/simple/\n",
            "Collecting ibm-watson-machine-learning\n",
            "  Downloading ibm_watson_machine_learning-1.0.257-py3-none-any.whl (1.8 MB)\n",
            "\u001b[K     |████████████████████████████████| 1.8 MB 4.8 MB/s \n",
            "\u001b[?25hRequirement already satisfied: tabulate in /usr/local/lib/python3.7/dist-packages (from ibm-watson-machine-learning) (0.8.10)\n",
            "Requirement already satisfied: urllib3 in /usr/local/lib/python3.7/dist-packages (from ibm-watson-machine-learning) (1.24.3)\n",
            "Collecting lomond\n",
            "  Downloading lomond-0.3.3-py2.py3-none-any.whl (35 kB)\n",
            "Requirement already satisfied: importlib-metadata in /usr/local/lib/python3.7/dist-packages (from ibm-watson-machine-learning) (4.13.0)\n",
            "Collecting ibm-cos-sdk==2.7.*\n",
            "  Downloading ibm-cos-sdk-2.7.0.tar.gz (51 kB)\n",
            "\u001b[K     |████████████████████████████████| 51 kB 702 kB/s \n",
            "\u001b[?25hRequirement already satisfied: pandas<1.5.0,>=0.24.2 in /usr/local/lib/python3.7/dist-packages (from ibm-watson-machine-learning) (1.3.5)\n",
            "Requirement already satisfied: certifi in /usr/local/lib/python3.7/dist-packages (from ibm-watson-machine-learning) (2022.9.24)\n",
            "Requirement already satisfied: requests in /usr/local/lib/python3.7/dist-packages (from ibm-watson-machine-learning) (2.23.0)\n",
            "Requirement already satisfied: packaging in /usr/local/lib/python3.7/dist-packages (from ibm-watson-machine-learning) (21.3)\n",
            "Collecting ibm-cos-sdk-core==2.7.0\n",
            "  Downloading ibm-cos-sdk-core-2.7.0.tar.gz (824 kB)\n",
            "\u001b[K     |████████████████████████████████| 824 kB 62.2 MB/s \n",
            "\u001b[?25hCollecting ibm-cos-sdk-s3transfer==2.7.0\n",
            "  Downloading ibm-cos-sdk-s3transfer-2.7.0.tar.gz (133 kB)\n",
            "\u001b[K     |████████████████████████████████| 133 kB 51.2 MB/s \n",
            "\u001b[?25hCollecting jmespath<1.0.0,>=0.7.1\n",
            "  Downloading jmespath-0.10.0-py2.py3-none-any.whl (24 kB)\n",
            "Collecting docutils<0.16,>=0.10\n",
            "  Downloading docutils-0.15.2-py3-none-any.whl (547 kB)\n",
            "\u001b[K     |████████████████████████████████| 547 kB 44.3 MB/s \n",
            "\u001b[?25hRequirement already satisfied: python-dateutil<3.0.0,>=2.1 in /usr/local/lib/python3.7/dist-packages (from ibm-cos-sdk-core==2.7.0->ibm-cos-sdk==2.7.*->ibm-watson-machine-learning) (2.8.2)\n",
            "Requirement already satisfied: numpy>=1.17.3 in /usr/local/lib/python3.7/dist-packages (from pandas<1.5.0,>=0.24.2->ibm-watson-machine-learning) (1.21.6)\n",
            "Requirement already satisfied: pytz>=2017.3 in /usr/local/lib/python3.7/dist-packages (from pandas<1.5.0,>=0.24.2->ibm-watson-machine-learning) (2022.6)\n",
            "Requirement already satisfied: six>=1.5 in /usr/local/lib/python3.7/dist-packages (from python-dateutil<3.0.0,>=2.1->ibm-cos-sdk-core==2.7.0->ibm-cos-sdk==2.7.*->ibm-watson-machine-learning) (1.15.0)\n",
            "Requirement already satisfied: chardet<4,>=3.0.2 in /usr/local/lib/python3.7/dist-packages (from requests->ibm-watson-machine-learning) (3.0.4)\n",
            "Requirement already satisfied: idna<3,>=2.5 in /usr/local/lib/python3.7/dist-packages (from requests->ibm-watson-machine-learning) (2.10)\n",
            "Requirement already satisfied: typing-extensions>=3.6.4 in /usr/local/lib/python3.7/dist-packages (from importlib-metadata->ibm-watson-machine-learning) (4.1.1)\n",
            "Requirement already satisfied: zipp>=0.5 in /usr/local/lib/python3.7/dist-packages (from importlib-metadata->ibm-watson-machine-learning) (3.10.0)\n",
            "Requirement already satisfied: pyparsing!=3.0.5,>=2.0.2 in /usr/local/lib/python3.7/dist-packages (from packaging->ibm-watson-machine-learning) (3.0.9)\n",
            "Building wheels for collected packages: ibm-cos-sdk, ibm-cos-sdk-core, ibm-cos-sdk-s3transfer\n",
            "  Building wheel for ibm-cos-sdk (setup.py) ... \u001b[?25l\u001b[?25hdone\n",
            "  Created wheel for ibm-cos-sdk: filename=ibm_cos_sdk-2.7.0-py2.py3-none-any.whl size=72563 sha256=0c73fd5ff2723ac7302b1d38719d5a86bfd888f4989ca195b98253a242f80f19\n",
            "  Stored in directory: /root/.cache/pip/wheels/47/22/bf/e1154ff0f5de93cc477acd0ca69abfbb8b799c5b28a66b44c2\n",
            "  Building wheel for ibm-cos-sdk-core (setup.py) ... \u001b[?25l\u001b[?25hdone\n",
            "  Created wheel for ibm-cos-sdk-core: filename=ibm_cos_sdk_core-2.7.0-py2.py3-none-any.whl size=501013 sha256=e1fc8c4f5fde9962b0c685463c122d0baf41a331a64e948f24912c611a91b147\n",
            "  Stored in directory: /root/.cache/pip/wheels/6c/a2/e4/c16d02f809a3ea998e17cfd02c13369281f3d232aaf5902c19\n",
            "  Building wheel for ibm-cos-sdk-s3transfer (setup.py) ... \u001b[?25l\u001b[?25hdone\n",
            "  Created wheel for ibm-cos-sdk-s3transfer: filename=ibm_cos_sdk_s3transfer-2.7.0-py2.py3-none-any.whl size=88622 sha256=ee09eb849394b9113cbccb163e08a2ceee06aa16f4ac496d6c177c404c43f7eb\n",
            "  Stored in directory: /root/.cache/pip/wheels/5f/b7/14/fbe02bc1ef1af890650c7e51743d1c83890852e598d164b9da\n",
            "Successfully built ibm-cos-sdk ibm-cos-sdk-core ibm-cos-sdk-s3transfer\n",
            "Installing collected packages: jmespath, docutils, ibm-cos-sdk-core, ibm-cos-sdk-s3transfer, lomond, ibm-cos-sdk, ibm-watson-machine-learning\n",
            "  Attempting uninstall: docutils\n",
            "    Found existing installation: docutils 0.17.1\n",
            "    Uninstalling docutils-0.17.1:\n",
            "      Successfully uninstalled docutils-0.17.1\n",
            "Successfully installed docutils-0.15.2 ibm-cos-sdk-2.7.0 ibm-cos-sdk-core-2.7.0 ibm-cos-sdk-s3transfer-2.7.0 ibm-watson-machine-learning-1.0.257 jmespath-0.10.0 lomond-0.3.3\n"
          ]
        }
      ]
    },
    {
      "cell_type": "code",
      "source": [
        "# Now connect notebook ml service with api key and url\n",
        "\n",
        "from ibm_watson_machine_learning import APIClient\n",
        "import json\n",
        "import numpy as np"
      ],
      "metadata": {
        "id": "ku1icIS4X8hp"
      },
      "execution_count": null,
      "outputs": []
    },
    {
      "cell_type": "markdown",
      "source": [
        "AUTENTICATE AND SET SPACE"
      ],
      "metadata": {
        "id": "wiy9654mYTnj"
      }
    },
    {
      "cell_type": "code",
      "source": [
        "wml_credentials = {\n",
        "    \"apikey\" : \"RYa2JTvIsfgzBUbvFxnCYVUxLBDntmTWzc9KGStjRtC5\",\n",
        "    \"url\" : \"https://us-south.ml.cloud.ibm.com\" #For Dallas region\n",
        "}"
      ],
      "metadata": {
        "id": "b_pP0VGFYPPO"
      },
      "execution_count": null,
      "outputs": []
    },
    {
      "cell_type": "code",
      "source": [
        "wml_client =APIClient(wml_credentials)"
      ],
      "metadata": {
        "colab": {
          "base_uri": "https://localhost:8080/"
        },
        "id": "3VEYZ2IdYDCk",
        "outputId": "2102f0bd-f427-4ed2-efea-b6b657a1fab1"
      },
      "execution_count": null,
      "outputs": [
        {
          "output_type": "stream",
          "name": "stdout",
          "text": [
            "Python 3.7 and 3.8 frameworks are deprecated and will be removed in a future release. Use Python 3.9 framework instead.\n"
          ]
        }
      ]
    },
    {
      "cell_type": "code",
      "source": [
        "# Check the available deployments\n",
        "\n",
        "wml_client.spaces.list()"
      ],
      "metadata": {
        "colab": {
          "base_uri": "https://localhost:8080/"
        },
        "id": "iy6f5llMYYA9",
        "outputId": "d7b7ae22-2cff-4936-995f-937337aedf55"
      },
      "execution_count": null,
      "outputs": [
        {
          "output_type": "stream",
          "name": "stdout",
          "text": [
            "Note: 'limit' is not provided. Only first 50 records will be displayed if the number of records exceed 50\n",
            "------------------------------------  -------------------------  ------------------------\n",
            "ID                                    NAME                       CREATED\n",
            "efa48345-def9-4aa5-b19f-4dd7d5f766ce  ParkinsonDiseaseDetection  2022-11-06T10:09:49.894Z\n",
            "------------------------------------  -------------------------  ------------------------\n"
          ]
        }
      ]
    },
    {
      "cell_type": "code",
      "source": [
        "SPACE_ID = \"efa48345-def9-4aa5-b19f-4dd7d5f766ce\"\n"
      ],
      "metadata": {
        "id": "-Uz93b07YdAO"
      },
      "execution_count": null,
      "outputs": []
    },
    {
      "cell_type": "code",
      "source": [
        "# Space id created default one\n",
        "\n",
        "wml_client.set.default_space(SPACE_ID)"
      ],
      "metadata": {
        "colab": {
          "base_uri": "https://localhost:8080/",
          "height": 36
        },
        "id": "rCOJHpmeYlKZ",
        "outputId": "2e159dde-67dc-4e72-ba8f-ef6493d6e1b9"
      },
      "execution_count": null,
      "outputs": [
        {
          "output_type": "execute_result",
          "data": {
            "text/plain": [
              "'SUCCESS'"
            ],
            "application/vnd.google.colaboratory.intrinsic+json": {
              "type": "string"
            }
          },
          "metadata": {},
          "execution_count": 9
        }
      ]
    },
    {
      "cell_type": "code",
      "source": [
        "# To check the environment\n",
        "\n",
        "wml_client.software_specifications.list()"
      ],
      "metadata": {
        "colab": {
          "base_uri": "https://localhost:8080/"
        },
        "id": "LfgTkVOqYo0m",
        "outputId": "fb7e35da-689f-4183-c849-82c4328da906"
      },
      "execution_count": null,
      "outputs": [
        {
          "output_type": "stream",
          "name": "stdout",
          "text": [
            "-----------------------------  ------------------------------------  ----\n",
            "NAME                           ASSET_ID                              TYPE\n",
            "default_py3.6                  0062b8c9-8b7d-44a0-a9b9-46c416adcbd9  base\n",
            "kernel-spark3.2-scala2.12      020d69ce-7ac1-5e68-ac1a-31189867356a  base\n",
            "pytorch-onnx_1.3-py3.7-edt     069ea134-3346-5748-b513-49120e15d288  base\n",
            "scikit-learn_0.20-py3.6        09c5a1d0-9c1e-4473-a344-eb7b665ff687  base\n",
            "spark-mllib_3.0-scala_2.12     09f4cff0-90a7-5899-b9ed-1ef348aebdee  base\n",
            "pytorch-onnx_rt22.1-py3.9      0b848dd4-e681-5599-be41-b5f6fccc6471  base\n",
            "ai-function_0.1-py3.6          0cdb0f1e-5376-4f4d-92dd-da3b69aa9bda  base\n",
            "shiny-r3.6                     0e6e79df-875e-4f24-8ae9-62dcc2148306  base\n",
            "tensorflow_2.4-py3.7-horovod   1092590a-307d-563d-9b62-4eb7d64b3f22  base\n",
            "pytorch_1.1-py3.6              10ac12d6-6b30-4ccd-8392-3e922c096a92  base\n",
            "tensorflow_1.15-py3.6-ddl      111e41b3-de2d-5422-a4d6-bf776828c4b7  base\n",
            "autoai-kb_rt22.2-py3.10        125b6d9a-5b1f-5e8d-972a-b251688ccf40  base\n",
            "runtime-22.1-py3.9             12b83a17-24d8-5082-900f-0ab31fbfd3cb  base\n",
            "scikit-learn_0.22-py3.6        154010fa-5b3b-4ac1-82af-4d5ee5abbc85  base\n",
            "default_r3.6                   1b70aec3-ab34-4b87-8aa0-a4a3c8296a36  base\n",
            "pytorch-onnx_1.3-py3.6         1bc6029a-cc97-56da-b8e0-39c3880dbbe7  base\n",
            "kernel-spark3.3-r3.6           1c9e5454-f216-59dd-a20e-474a5cdf5988  base\n",
            "pytorch-onnx_rt22.1-py3.9-edt  1d362186-7ad5-5b59-8b6c-9d0880bde37f  base\n",
            "tensorflow_2.1-py3.6           1eb25b84-d6ed-5dde-b6a5-3fbdf1665666  base\n",
            "spark-mllib_3.2                20047f72-0a98-58c7-9ff5-a77b012eb8f5  base\n",
            "tensorflow_2.4-py3.8-horovod   217c16f6-178f-56bf-824a-b19f20564c49  base\n",
            "runtime-22.1-py3.9-cuda        26215f05-08c3-5a41-a1b0-da66306ce658  base\n",
            "do_py3.8                       295addb5-9ef9-547e-9bf4-92ae3563e720  base\n",
            "autoai-ts_3.8-py3.8            2aa0c932-798f-5ae9-abd6-15e0c2402fb5  base\n",
            "tensorflow_1.15-py3.6          2b73a275-7cbf-420b-a912-eae7f436e0bc  base\n",
            "kernel-spark3.3-py3.9          2b7961e2-e3b1-5a8c-a491-482c8368839a  base\n",
            "pytorch_1.2-py3.6              2c8ef57d-2687-4b7d-acce-01f94976dac1  base\n",
            "spark-mllib_2.3                2e51f700-bca0-4b0d-88dc-5c6791338875  base\n",
            "pytorch-onnx_1.1-py3.6-edt     32983cea-3f32-4400-8965-dde874a8d67e  base\n",
            "spark-mllib_3.0-py37           36507ebe-8770-55ba-ab2a-eafe787600e9  base\n",
            "spark-mllib_2.4                390d21f8-e58b-4fac-9c55-d7ceda621326  base\n",
            "autoai-ts_rt22.2-py3.10        396b2e83-0953-5b86-9a55-7ce1628a406f  base\n",
            "xgboost_0.82-py3.6             39e31acd-5f30-41dc-ae44-60233c80306e  base\n",
            "pytorch-onnx_1.2-py3.6-edt     40589d0e-7019-4e28-8daa-fb03b6f4fe12  base\n",
            "pytorch-onnx_rt22.2-py3.10     40e73f55-783a-5535-b3fa-0c8b94291431  base\n",
            "default_r36py38                41c247d3-45f8-5a71-b065-8580229facf0  base\n",
            "autoai-ts_rt22.1-py3.9         4269d26e-07ba-5d40-8f66-2d495b0c71f7  base\n",
            "autoai-obm_3.0                 42b92e18-d9ab-567f-988a-4240ba1ed5f7  base\n",
            "pmml-3.0_4.3                   493bcb95-16f1-5bc5-bee8-81b8af80e9c7  base\n",
            "spark-mllib_2.4-r_3.6          49403dff-92e9-4c87-a3d7-a42d0021c095  base\n",
            "xgboost_0.90-py3.6             4ff8d6c2-1343-4c18-85e1-689c965304d3  base\n",
            "pytorch-onnx_1.1-py3.6         50f95b2a-bc16-43bb-bc94-b0bed208c60b  base\n",
            "autoai-ts_3.9-py3.8            52c57136-80fa-572e-8728-a5e7cbb42cde  base\n",
            "spark-mllib_2.4-scala_2.11     55a70f99-7320-4be5-9fb9-9edb5a443af5  base\n",
            "spark-mllib_3.0                5c1b0ca2-4977-5c2e-9439-ffd44ea8ffe9  base\n",
            "autoai-obm_2.0                 5c2e37fa-80b8-5e77-840f-d912469614ee  base\n",
            "spss-modeler_18.1              5c3cad7e-507f-4b2a-a9a3-ab53a21dee8b  base\n",
            "cuda-py3.8                     5d3232bf-c86b-5df4-a2cd-7bb870a1cd4e  base\n",
            "runtime-22.2-py3.10-xc         5e8cddff-db4a-5a6a-b8aa-2d4af9864dab  base\n",
            "autoai-kb_3.1-py3.7            632d4b22-10aa-5180-88f0-f52dfb6444d7  base\n",
            "-----------------------------  ------------------------------------  ----\n",
            "Note: Only first 50 records were displayed. To display more use 'limit' parameter.\n"
          ]
        }
      ]
    },
    {
      "cell_type": "markdown",
      "source": [
        "SAVE AND DEPLOY THE MODEL\n"
      ],
      "metadata": {
        "id": "5PqHx5S0YwPK"
      }
    },
    {
      "cell_type": "code",
      "source": [
        "import sklearn\n",
        "sklearn.__version__"
      ],
      "metadata": {
        "colab": {
          "base_uri": "https://localhost:8080/",
          "height": 36
        },
        "id": "_5s8GWhDYtmg",
        "outputId": "e2edec96-7d11-4ddf-aee0-5a1d9ee10dcf"
      },
      "execution_count": null,
      "outputs": [
        {
          "output_type": "execute_result",
          "data": {
            "text/plain": [
              "'1.0.2'"
            ],
            "application/vnd.google.colaboratory.intrinsic+json": {
              "type": "string"
            }
          },
          "metadata": {},
          "execution_count": 11
        }
      ]
    },
    {
      "cell_type": "code",
      "source": [
        "MODEL_NAME = \"ParkinsonDiseaseDetection_DeployedModel\"\n",
        "DEPLOYMENT_NAME = \"ParkinsonDiseaseDetection\"\n",
        "DEMO_MODEL = Models.model"
      ],
      "metadata": {
        "id": "v-QbIg7eY4W0"
      },
      "execution_count": null,
      "outputs": []
    },
    {
      "cell_type": "code",
      "source": [
        "# Set Python default version\n",
        "\n",
        "software_spec_uid = wml_client.software_specifications.get_id_by_name('runtime-22.1-py3.9')"
      ],
      "metadata": {
        "id": "3rDrAVtHZSw6"
      },
      "execution_count": null,
      "outputs": []
    },
    {
      "cell_type": "markdown",
      "source": [
        "Create Model Properties to deploy the model"
      ],
      "metadata": {
        "id": "MtYBuZEwZgCF"
      }
    },
    {
      "cell_type": "code",
      "source": [
        "# Setup Model Meta\n",
        "\n",
        "model_props = {\n",
        "    wml_client.repository.ModelMetaNames.NAME: MODEL_NAME,\n",
        "    wml_client.repository.ModelMetaNames.TYPE: 'scikit-learn_1.0',\n",
        "    wml_client.repository.ModelMetaNames.SOFTWARE_SPEC_UID: software_spec_uid\n",
        "}"
      ],
      "metadata": {
        "id": "rlldTm__ZbHA"
      },
      "execution_count": null,
      "outputs": []
    },
    {
      "cell_type": "code",
      "source": [
        "# Save Model\n",
        "\n",
        "model_details = wml_client.repository.store_model{\n",
        "    model = DEMO_MODEL,\n",
        "    meta_props = model_props,\n",
        "    training_data = X_train,\n",
        "    training_target = y_train\n",
        "}"
      ],
      "metadata": {
        "id": "MyxHo5RlZl0K"
      },
      "execution_count": null,
      "outputs": []
    },
    {
      "cell_type": "code",
      "source": [
        "model_details"
      ],
      "metadata": {
        "id": "kD-gOE5xZzSG"
      },
      "execution_count": null,
      "outputs": []
    },
    {
      "cell_type": "code",
      "source": [
        "model_id = wml_client.repository.get_model_id(model_details)\n",
        "model_id"
      ],
      "metadata": {
        "id": "jD_m2AkZaQ0d"
      },
      "execution_count": null,
      "outputs": []
    },
    {
      "cell_type": "code",
      "source": [
        "# Download the model locally\n",
        "\n",
        "wml_client.repository.download('9a0b7baa-7377-4117-a020-9e5d7b26974d','Deployed_Model.tar.gz')"
      ],
      "metadata": {
        "colab": {
          "base_uri": "https://localhost:8080/",
          "height": 54
        },
        "id": "xHvVuiGVaZYO",
        "outputId": "9d1f838f-1382-418a-cce9-2af1b42babbb"
      },
      "execution_count": null,
      "outputs": [
        {
          "output_type": "stream",
          "name": "stdout",
          "text": [
            "Successfully saved model content to file: 'Deployed_Model.tar.gz'\n"
          ]
        },
        {
          "output_type": "execute_result",
          "data": {
            "text/plain": [
              "'/content/Deployed_Model.tar.gz'"
            ],
            "application/vnd.google.colaboratory.intrinsic+json": {
              "type": "string"
            }
          },
          "metadata": {},
          "execution_count": 24
        }
      ]
    },
    {
      "cell_type": "markdown",
      "source": [
        "DEPLOY IN PROPS\n"
      ],
      "metadata": {
        "id": "0w7Z1EsOagaA"
      }
    },
    {
      "cell_type": "code",
      "source": [
        "# Set meta\n",
        "\n",
        "deployment_props = {\n",
        "    wml_client.deployments.ConfigurationMetaNames.NAME : DEPLOYMENT_NAME,\n",
        "    wml_client.deployments.ConfigurationMetaNames.ONLINE : {}\n",
        "}"
      ],
      "metadata": {
        "id": "zSxJ2TNRainH"
      },
      "execution_count": null,
      "outputs": []
    },
    {
      "cell_type": "code",
      "source": [
        "# Deploy\n",
        "\n",
        "deployment = wml_client.deployments.create(\n",
        "    artifact_uid = model_id\n",
        "    meta_props = deployment_props\n",
        ")"
      ],
      "metadata": {
        "id": "y254H8yXamcr"
      },
      "execution_count": null,
      "outputs": []
    },
    {
      "cell_type": "code",
      "source": [],
      "metadata": {
        "id": "1xUZl-Ktadrv"
      },
      "execution_count": null,
      "outputs": []
    }
  ]
}